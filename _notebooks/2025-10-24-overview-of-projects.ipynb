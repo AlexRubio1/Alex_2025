{
 "cells": [
  {
   "cell_type": "raw",
   "metadata": {},
   "source": [
    "---\n",
    "layout: post\n",
    "title: Overview of Projects from Blog\n",
    "description: Highlighting my unique qualities and projects \n",
    "courses: { csp: {week:5} }\n",
    "comments: true\n",
    "sticky_rank: 1\n",
    "---"
   ]
  },
  {
   "cell_type": "markdown",
   "metadata": {},
   "source": [
    "<h2 style=\"color: white;\">💼 Full-Stack Developer | Aspiring CS Engineer | Open to Opportunities</h2>\n",
    "\n",
    "I'm a full-stack developer and current high school student passionate about building scalable, real-world applications. With hands-on experience in frontend, backend, deployment, and data integration, I bring both technical depth and team collaboration to every project.\n",
    "\n",
    "Even during challenging times — including being out for two weeks with severe salmonella and E. coli poisoning — I remained committed to my teammates and continued supporting our projects remotely. I take pride in being adaptable, dependable, and focused no matter the circumstances.\n",
    "\n",
    "---\n",
    "\n",
    "<h3 style=\"color: white;\">🔧 Featured Projects</h3>\n",
    "\n",
    "**StudyBuddy**  \n",
    "A full-stack task manager where users assign tasks to specific days. Built with Flask, JavaScript, and SQLite.  \n",
    "➡️ [View Code](https://github.com/alexgstf/studybuddy_frontend)\n",
    "\n",
    "**PowayData**  \n",
    "A live dashboard for San Diego’s weather, disaster risk, and webcams. Integrated weather APIs, model predictions, and Nginx deployment.  \n",
    "➡️ [View Code](https://github.com/prajnar123123213/powaydata_frontend)\n",
    "\n",
    "**DataScience Platform**  \n",
    "Created backend APIs and model routes with Flask and AWS-ready configs. Promotes open collaboration via the Open Coding Society.  \n",
    "➡️ [View Code](https://github.com/Open-Coding-Society/datascience_frontend)\n",
    "\n",
    "**Draw.io Clone (Flocker)**  \n",
    "Contributed to frontend UI logic for a real-time diagramming tool.  \n",
    "➡️ [View Code](https://github.com/prajnar123123213/flocker_frontend)\n",
    "\n",
    "---\n",
    "\n",
    "<h3 style=\"color: white;\">🧠 What Sets Me Apart</h3>\n",
    "\n",
    "- **Full-Stack Ready**: Frontend (HTML/CSS/JS), Backend (Flask, SQLite), and Deployment (Nginx, AWS)  \n",
    "- **Project Ownership**: Built and led deployment pipelines and server configurations  \n",
    "- **Open Source Leader**: Co-led our school’s Open Coding Society with a focus on sharing public, collaborative tools  \n",
    "- **Self-Starter**: GitHub-first mindset with all code open and documented  \n",
    "- **Adapt & Overcome**: Supported team projects even while hospitalized with illness — resilience is built into my workflow  \n",
    "- **Aspiring CS Engineer**: Eager to grow in software engineering through internships or mentorship  \n",
    "\n",
    "---"
   ]
  }
 ],
 "metadata": {
  "language_info": {
   "name": "python"
  }
 },
 "nbformat": 4,
 "nbformat_minor": 2
}
