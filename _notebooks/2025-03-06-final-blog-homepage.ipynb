{
 "cells": [
  {
   "cell_type": "raw",
   "metadata": {},
   "source": [
    "---\n",
    "layout: post\n",
    "title: Main link page\n",
    "description: All of the blogs combined\n",
    "courses: { csp: {week:1} }\n",
    "comments: true\n",
    "sticky_rank: 1\n",
    "---"
   ]
  },
  {
   "cell_type": "markdown",
   "metadata": {},
   "source": [
    "# My Notebooks\n",
    "\n",
    "- [My 5 Biggest Accomplishments Blog](https://example.com/notebook1)\n",
    "- [N@TM Notes](https://example.com/notebook2)\n",
    "- [College Board 2020 MCQ/Revision](https://example.com/notebook3)\n",
    "- [Project Feature Blog](https://example.com/notebook4)\n",
    "- [Final, Self Grading](https://example.com/notebook5)\n"
   ]
  }
 ],
 "metadata": {
  "language_info": {
   "name": "python"
  }
 },
 "nbformat": 4,
 "nbformat_minor": 2
}
