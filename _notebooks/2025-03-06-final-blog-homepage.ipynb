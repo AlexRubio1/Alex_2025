{
 "cells": [
  {
   "cell_type": "raw",
   "metadata": {},
   "source": [
    "---\n",
    "layout: post\n",
    "title: Main link page\n",
    "description: All of the blogs combined\n",
    "courses: { csp: {week:1} }\n",
    "comments: true\n",
    "sticky_rank: 1\n",
    "---"
   ]
  },
  {
   "cell_type": "markdown",
   "metadata": {},
   "source": [
    "# My Notebooks\n",
    "\n",
    "- [My 5 Biggest Accomplishments Blog](http://127.0.0.1:4100/Alex_2025/2025/03/06/my-5-biggest-accompishments_IPYNB_2_.html)\n",
    "- [N@TM Notes](http://127.0.0.1:4100/Alex_2025/2025/03/06/N@TM_IPYNB_2_.html)\n",
    "- [College Board 2020 MCQ/Revision](http://127.0.0.1:4100/Alex_2025/2025/03/06/mcq-and-revisions_IPYNB_2_.html)\n",
    "- [Project Feature Blog](http://127.0.0.1:4100/Alex_2025/2025/03/06/cpt-fullstack_IPYNB_2_.html)\n",
    "- [Final, Self Grading](https://example.com/notebook5)\n"
   ]
  }
 ],
 "metadata": {
  "language_info": {
   "name": "python"
  }
 },
 "nbformat": 4,
 "nbformat_minor": 2
}
