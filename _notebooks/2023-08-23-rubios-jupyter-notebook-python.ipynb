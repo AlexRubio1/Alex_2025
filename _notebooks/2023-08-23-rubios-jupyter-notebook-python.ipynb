{
 "cells": [
  {
   "attachments": {},
   "cell_type": "raw",
   "metadata": {
    "vscode": {
     "languageId": "raw"
    }
   },
   "source": [
    "---\n",
    "layout: post\n",
    "title: Rubio's-Playing with Jupyter Notebooks and Python\n",
    "description:  Showing how I was able to work and expieriment with these \n",
    "type: issues \n",
    "comments: true\n",
    "---"
   ]
  },
  {
   "attachments": {},
   "cell_type": "markdown",
   "metadata": {},
   "source": [
    "### Emoji Print\n",
    "It is easy to add an emoji to a message in code.  However, using the emoji library or other libraries often requires you to install code on your machine.  Before using a library, that is not part of Python distribution, you must install with `pip`\n",
    "\n",
    "```bash\n",
    "# terminal command to install library\n",
    "$ pip install emoji\n",
    "Collecting emoji\n",
    "  Downloading emoji-2.5.1.tar.gz (356 kB)\n",
    "...\n",
    "Successfully installed emoji-2.5.1\n",
    "```"
   ]
  },
  {
   "cell_type": "code",
   "execution_count": 1,
   "metadata": {},
   "outputs": [
    {
     "name": "stdout",
     "output_type": "stream",
     "text": [
      "👍 Python is awesome! 😀\n"
     ]
    }
   ],
   "source": [
    "#!pip install emoji\n",
    "from emoji import emojize \n",
    "print(emojize(\":thumbs_up: Python is awesome! :grinning_face:\"))"
   ]
  },
  {
   "cell_type": "markdown",
   "metadata": {},
   "source": [
    "# About Me\n",
    "\n",
    "Hello! I’m passionate about coding, sports, and family/friends. I 🚀 each day while exploring new technologies, and improving my dveryday skills\n",
    "\n",
    "> **Favorite Quote:**\n",
    "> *\"For I consider that the sufferings of this present time are not worth comparing with the glory that is going to be revealed to us\"* — Romans 8:18\n",
    "\n",
    "---\n",
    "\n",
    "### **Custom Emojis**\n",
    "\n",
    "Here are some of my custom emojis:\n",
    "\n",
    "<span style=\"font-size: 30px;\">🧑‍💻</span> Developer | <span style=\"font-size: 30px;\">💡</span> Innovator | <span style=\"font-size: 30px;\">🎨</span> Designer\n",
    "\n",
    "(I did not put this in my about.md just exploring and trying new things)\n",
    "\n",
    "---\n",
    "\n",
    "### **Fun Facts About Me**\n",
    "\n",
    "- I Started sports at a young age starting with basketball then going to football 🏈🏀\n",
    "\n",
    "- I Lived in California my whole life while my parents lived in mexico for half their life 🇲🇽\n",
    "\n",
    "- My hobbys are hanging out with my friends and family, playing videogames, and watching the nfl 🏈\n",
    "\n",
    "- I love going to the beach, im very outgoing 🏖️\n",
    "\n",
    "- I have 4 pets, 2 cats and 2 dogs 🐈🐶\n",
    "\n",
    "  \n",
    "---"
   ]
  },
  {
   "cell_type": "code",
   "execution_count": 12,
   "metadata": {},
   "outputs": [
    {
     "name": "stdout",
     "output_type": "stream",
     "text": [
      "❤️ Python gets you smarter! 🔥\n"
     ]
    }
   ],
   "source": [
    "from emoji import emojize \n",
    "\n",
    "# Using different emoji shortcodes\n",
    "print(emojize(\":red_heart: Python gets you smarter! :fire:\"))\n"
   ]
  },
  {
   "attachments": {},
   "cell_type": "markdown",
   "metadata": {},
   "source": [
    "### Here is an example of me trying to reach for data by using the bible. \n",
    "I used the example of my favorite quote that I used in my about.md to pull form the pip install bible to show the verse."
   ]
  },
  {
   "cell_type": "code",
   "execution_count": 2,
   "metadata": {},
   "outputs": [
    {
     "data": {
      "text/markdown": [
       "### Romans 8:18"
      ],
      "text/plain": [
       "<IPython.core.display.Markdown object>"
      ]
     },
     "metadata": {},
     "output_type": "display_data"
    },
    {
     "data": {
      "text/markdown": [
       "For I consider that the sufferings of this present time are not worthy to be compared with the glory which will be revealed toward us.\n"
      ],
      "text/plain": [
       "<IPython.core.display.Markdown object>"
      ]
     },
     "metadata": {},
     "output_type": "display_data"
    }
   ],
   "source": [
    "import requests\n",
    "from IPython.display import display, Markdown\n",
    "\n",
    "# Specify the verse you want to retrieve\n",
    "verse_reference = \"Romans 8:18\"\n",
    "\n",
    "# Use the Bible API to fetch the verse\n",
    "response = requests.get(f\"https://bible-api.com/{verse_reference}\")\n",
    "\n",
    "# Check if the request was successful\n",
    "if response.status_code == 200:\n",
    "    data = response.json()\n",
    "    \n",
    "    # Display the verse in Jupyter\n",
    "    display(Markdown(f\"### {data['reference']}\"))\n",
    "    display(Markdown(data['text']))\n",
    "else:\n",
    "    print(\"Error fetching the verse.\")\n"
   ]
  }
 ],
 "metadata": {
  "kernelspec": {
   "display_name": "Python 3.8.10 64-bit",
   "language": "python",
   "name": "python3"
  },
  "language_info": {
   "codemirror_mode": {
    "name": "ipython",
    "version": 3
   },
   "file_extension": ".py",
   "mimetype": "text/x-python",
   "name": "python",
   "nbconvert_exporter": "python",
   "pygments_lexer": "ipython3",
   "version": "3.12.5"
  },
  "vscode": {
   "interpreter": {
    "hash": "916dbcbb3f70747c44a77c7bcd40155683ae19c65e1c03b4aa3499c5328201f1"
   }
  }
 },
 "nbformat": 4,
 "nbformat_minor": 2
}
