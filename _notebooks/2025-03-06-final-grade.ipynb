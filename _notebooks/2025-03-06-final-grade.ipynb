{
 "cells": [
  {
   "cell_type": "raw",
   "metadata": {},
   "source": [
    "---\n",
    "layout: post\n",
    "title: Final grade reflection\n",
    "description: All of the blogs combined\n",
    "courses: { csp: {week:1} }\n",
    "comments: true\n",
    "sticky_rank: 1\n",
    "---"
   ]
  },
  {
   "cell_type": "markdown",
   "metadata": {},
   "source": [
    "# Grading Breakdown\n",
    "\n",
    "| **Criteria**                                                  | **Points** |\n",
    "|---------------------------------------------------------------|------------|\n",
    "| **5 things you did over 12 weeks (Issues, Burndown, Presentation)** | 5/5          |\n",
    "| **Full Stack Project Demo (CPT requirement highlights & N@tM feedback)** | 1.7/2        |\n",
    "| **Project Feature Blog Write-up (using CPT/FRQ language)**    | .8/1          |\n",
    "| **MCQ**                                                        | .88/1          |\n",
    "| **Impressiveness in Reflection & Looking Forward (Retrospective)** | .8/1          |\n",
    "| **Total**                                                      | **9.18/10**   |\n"
   ]
  }
 ],
 "metadata": {
  "language_info": {
   "name": "python"
  }
 },
 "nbformat": 4,
 "nbformat_minor": 2
}
