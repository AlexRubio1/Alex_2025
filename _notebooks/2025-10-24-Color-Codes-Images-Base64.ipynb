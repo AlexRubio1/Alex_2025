{
 "cells": [
  {
   "cell_type": "raw",
   "metadata": {},
   "source": [
    "---\n",
    "layout: post\n",
    "title: Color Codes/Images/Base64\n",
    "description: Color Codes/Images/Base64 notes \n",
    "courses: { csp: {week:1} }\n",
    "comments: true\n",
    "sticky_rank: 1\n",
    "---"
   ]
  },
  {
   "cell_type": "markdown",
   "metadata": {},
   "source": [
    "## Notes"
   ]
  },
  {
   "cell_type": "markdown",
   "metadata": {},
   "source": [
    "### Popcorn hacks and homework hacks\n",
    "\n",
    "## Popcorn hack one\n",
    "Popcorn Hacks\n",
    "1️⃣ Which image format is best for logos and transparency?\n",
    "- PNG\n",
    "2️⃣ Which format loses quality to make the file size smaller?\n",
    "- JPG\n",
    "3️⃣ Which format is used for simple animations, like memes?\n",
    "- GIF\n",
    "## Popcorn hack two\n",
    "\n",
    "POPCORN HACK: Decode This!\n",
    "Question:\n",
    "What does this Base64 string decode to? U1Q=\n",
    "\n",
    "U1Q= → ST\n",
    "- U = 20 → 010100\n",
    "- 1 = 53 → 110101\n",
    "- Q = 16 → 010000\n",
    "Together = 01010011 01010100 = ASCII for \"ST\"\n",
    "\n",
    "\n",
    "\n",
    "## Homework Hack 1\n"
   ]
  },
  {
   "cell_type": "code",
   "execution_count": null,
   "metadata": {},
   "outputs": [],
   "source": [
    "def decimal_to_binary(decimal_num):\n",
    "    \"\"\"Converts a decimal number to a binary string.\"\"\"\n",
    "    if decimal_num >= 0:\n",
    "        return bin(decimal_num)[2:]\n",
    "    else:\n",
    "        return '-' + bin(abs(decimal_num))[2:]\n",
    "\n",
    "def binary_to_decimal(binary_str):\n",
    "    \"\"\"Converts a binary string to a decimal number.\"\"\"\n",
    "    if binary_str.startswith('-'):\n",
    "        return -int(binary_str[1:], 2)\n",
    "    else:\n",
    "        return int(binary_str, 2)\n",
    "\n",
    "# --- Testing the functions ---\n",
    "\n",
    "# Decimal to Binary\n",
    "print(\"Decimal to Binary Tests:\")\n",
    "print(decimal_to_binary(10))   # Output: 1010\n",
    "print(decimal_to_binary(0))    # Output: 0\n",
    "print(decimal_to_binary(-7))   # Output: -111\n",
    "\n",
    "# Binary to Decimal\n",
    "print(\"\\nBinary to Decimal Tests:\")\n",
    "print(binary_to_decimal(\"1010\"))   # Output: 10\n",
    "print(binary_to_decimal(\"0\"))      # Output: 0\n",
    "print(binary_to_decimal(\"-111\"))   # Output: -7"
   ]
  },
  {
   "cell_type": "markdown",
   "metadata": {},
   "source": [
    "## Homework Hack 2"
   ]
  },
  {
   "cell_type": "code",
   "execution_count": 4,
   "metadata": {},
   "outputs": [
    {
     "name": "stdout",
     "output_type": "stream",
     "text": [
      "Difficulty set to: easy\n"
     ]
    }
   ],
   "source": [
    "import time\n",
    "\n",
    "difficulty = input(\"Enter difficulty (easy, medium, hard): \").lower().strip()\n",
    "\n",
    "while difficulty not in [\"easy\", \"medium\", \"hard\"]:\n",
    "    print(\"Please enter a valid difficulty level.\")\n",
    "    difficulty = input(\"Enter difficulty (easy, medium, hard): \").lower().strip()\n",
    "    time.sleep(0.5)\n",
    "\n",
    "print(\"Difficulty set to:\", difficulty)"
   ]
  },
  {
   "cell_type": "markdown",
   "metadata": {},
   "source": [
    "<html lang=\"en\">\n",
    "<head>\n",
    "  <meta charset=\"UTF-8\">\n",
    "  <title>My Mood Board</title>\n",
    "  <style>\n",
    "    body {\n",
    "      font-family: Arial, sans-serif;\n",
    "      text-align: center;\n",
    "      padding: 20px;\n",
    "    }\n",
    "    .color-box {\n",
    "      width: 150px;\n",
    "      height: 150px;\n",
    "      display: inline-block;\n",
    "      margin: 10px;\n",
    "      border-radius: 10px;\n",
    "      line-height: 150px;\n",
    "      color: #333;\n",
    "      font-weight: bold;\n",
    "      box-shadow: 0 0 10px rgba(0,0,0,0.1);\n",
    "    }\n",
    "  </style>\n",
    "</head>\n",
    "<body>\n",
    "  <h1>:art: My Mood Board</h1>\n",
    "  <div class=\"color-box\" style=\"background-color: #FF9FB2;\">#87CEEB</div>\n",
    "  <div class=\"color-box\" style=\"background-color: #FBDCE2;\">#FF7F50</div>\n",
    "  <div class=\"color-box\" style=\"background-color: #E6E6FA;\">#0ACDFF</div>\n",
    "  <div class=\"color-box\" style=\"background-color: #98FF98;\">#60AB9A</div>\n",
    "  <div class=\"color-box\" style=\"background-color: #FFFACD;\">#DEDEE0</div>\n",
    "</body>\n",
    "</html>\n",
    "10:12\n",
    "<html lang=\"en\">\n",
    "<head>\n",
    "  <meta charset=\"UTF-8\">\n",
    "  <title>My Base64 Profile Pic</title>\n",
    "</head>\n",
    "<body>\n",
    "  <h1>:school_satchel: My Embedded Profile Picture</h1>\n",
    "  <img src=\"data:image/png;base64,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\" alt=\"Profile Picture\" width=\"200\">\n",
    "</body>\n",
    "</html>"
   ]
  }
 ],
 "metadata": {
  "kernelspec": {
   "display_name": "venv",
   "language": "python",
   "name": "python3"
  },
  "language_info": {
   "codemirror_mode": {
    "name": "ipython",
    "version": 3
   },
   "file_extension": ".py",
   "mimetype": "text/x-python",
   "name": "python",
   "nbconvert_exporter": "python",
   "pygments_lexer": "ipython3",
   "version": "3.13.1"
  }
 },
 "nbformat": 4,
 "nbformat_minor": 2
}
