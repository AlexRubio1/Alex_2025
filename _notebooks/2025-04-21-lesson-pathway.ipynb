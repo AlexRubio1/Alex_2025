{
 "cells": [
  {
   "cell_type": "raw",
   "metadata": {},
   "source": [
    "---\n",
    "layout: post\n",
    "title: Main Lesson pathway\n",
    "description: Main lesson\n",
    "courses: { csp: {week:1} }\n",
    "comments: true\n",
    "sticky_rank: 1\n",
    "---"
   ]
  },
  {
   "cell_type": "markdown",
   "metadata": {},
   "source": [
    "#  CS Principles Lessons - Jupyter Notebook Directory\n",
    "\n",
    "-  Big Idea 5: Impact of Computing\n",
    "\n",
    "- [Beneficial / Harmful Effects](https://alexrubio1.github.io/Alex_2025/2025/03/27/effects_IPYNB_2_.html)\n",
    "\n",
    "- [Digital Divide](https://alexrubio1.github.io/Alex_2025/2025/03/25/digital_divide_IPYNB_2_.html)\n",
    "\n",
    "- [Computing Bias](https://alexrubio1.github.io/Alex_2025/2025/03/27/computer_bias_IPYNB_2_.html)\n",
    "\n",
    "- [Crowdsourcing](https://alexrubio1.github.io/Alex_2025/2025/03/27/crowd_sourcing_IPYNB_2_.html)\n",
    "\n",
    "- [Legal / Ethical Concerns](https://alexrubio1.github.io/Alex_2025/2025/04/22/legal-and-ethical-concerns_IPYNB_2_.html)\n",
    "\n",
    "- [Safe Computing](https://alexrubio1.github.io/Alex_2025/2025/04/01/safe-computing_IPYNB_2_.html)\n",
    "\n",
    "---\n",
    "\n",
    "-  Big Idea 3: Algorithms and Programming\n",
    "\n",
    "- [Binary Search Algorithm](notebooks/bigidea3/binary_search.ipynb)\n",
    "\n",
    "- [Lists and Filtering Algorithm](notebooks/bigidea3/lists_filtering.ipynb)\n",
    "\n",
    "- [Simulation / Games and Random Algorithms](https://alexrubio1.github.io/Alex_2025/2025/04/11/simulation-games_IPYNB_2_.html)\n",
    "\n",
    "- [Big O and Algorithm Efficiency](https://alexrubio1.github.io/Alex_2025/2025/04/21/big-o-lesson_IPYNB_2_.html)\n",
    "\n",
    "- [Undecidable Problems, Graphs + Heuristics](https://alexrubio1.github.io/und_lesson/lesson/3-2)\n",
    "\n",
    "- [Binary Base 2 Math + Logic Gates](notebooks/bigidea3/binary_logic_gates.ipynb)\n",
    "\n",
    "- [Color Codes / Images / Base64](notebooks/bigidea3/color_images_base64.ipynb)\n",
    "\n",
    "---\n",
    "\n",
    "- Spread sheet for all lessons\n",
    "\n",
    "[Spread Sheet](https://docs.google.com/spreadsheets/d/17FRhrbjNAmsNVuT4iZJ0bxGnvW1-MuDTF8SqowtdVuo/edit?gid=0#gid=0)\n",
    "\n",
    "---\n",
    "\n",
    "- Final Blogs\n",
    "\n",
    "- [Overview of Lessons](https://alexrubio1.github.io/Alex_2025/2025/10/24/overview-of-projects_IPYNB_2_.html)\n",
    "\n",
    "- [N@TM](https://alexrubio1.github.io/Alex_2025/2025/03/06/N@TM_IPYNB_2_.html)\n",
    "\n",
    "\n"
   ]
  }
 ],
 "metadata": {
  "kernelspec": {
   "display_name": "venv",
   "language": "python",
   "name": "python3"
  },
  "language_info": {
   "codemirror_mode": {
    "name": "ipython",
    "version": 3
   },
   "file_extension": ".py",
   "mimetype": "text/x-python",
   "name": "python",
   "nbconvert_exporter": "python",
   "pygments_lexer": "ipython3",
   "version": "3.13.1"
  }
 },
 "nbformat": 4,
 "nbformat_minor": 2
}
