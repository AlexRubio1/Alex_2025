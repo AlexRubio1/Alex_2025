{
 "cells": [
  {
   "cell_type": "raw",
   "metadata": {},
   "source": [
    "---\n",
    "layout: post\n",
    "title: Simulation games\n",
    "description: Simulation games popcorn hacks and Homework\n",
    "courses: { csp: {week:1} }\n",
    "comments: true\n",
    "sticky_rank: 1\n",
    "---"
   ]
  },
  {
   "cell_type": "markdown",
   "metadata": {},
   "source": [
    "# 🎲 Notes: Random Number Generation & Simulations\n",
    "\n",
    "---\n",
    "\n",
    "## 🔑 Key Concepts\n",
    "\n",
    "- **Random Number Generation**: Creating unpredictable values used in:\n",
    "  - Simulations\n",
    "  - Games\n",
    "  - Security (e.g., passwords, encryption)\n",
    "  - Testing/experiments\n",
    "\n",
    "- **RANDOM(a, b)**: Returns a random integer from `a` to `b` (inclusive)\n",
    "  - Equal probability for each number\n",
    "  - Different each time it's run\n",
    "\n",
    "---\n",
    "\n",
    "## ⚙️ Simulator Code Example\n",
    "\n",
    "```python\n",
    "import random\n",
    "\n",
    "def random_int(a, b):\n",
    "    return random.randint(a, b)\n",
    "\n",
    "print(f\"1-10: {random_int(1, 10)}\")\n",
    "print(f\"0-1: {random_int(0, 1)}\")  # Coin flip\n",
    "print(f\"1-6: {random_int(1, 6)}\")  # Die roll"
   ]
  }
 ],
 "metadata": {
  "language_info": {
   "name": "python"
  }
 },
 "nbformat": 4,
 "nbformat_minor": 2
}
