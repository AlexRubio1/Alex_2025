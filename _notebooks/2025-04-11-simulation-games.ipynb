{
 "cells": [
  {
   "cell_type": "code",
   "execution_count": null,
   "metadata": {
    "vscode": {
     "languageId": "ruby"
    }
   },
   "outputs": [],
   "source": [
    "---\n",
    "layout: post\n",
    "title: simualtion/games and random algortihms \n",
    "description: simualtion/games and random algortihms\n",
    "courses: { csp: {week:1} }\n",
    "comments: true\n",
    "sticky_rank: 1\n",
    "---"
   ]
  },
  {
   "cell_type": "markdown",
   "metadata": {},
   "source": [
    "# 🎲 Random Number Generation & Simulations\n",
    "\n",
    "Random number generation is a fundamental concept in programming where we create unpredictable values. It's used in:\n",
    "\n",
    "- Simulations  \n",
    "- Games  \n",
    "- Security applications  \n",
    "- Testing  \n",
    "- Simulators  \n",
    "\n",
    "---\n",
    "\n",
    "## 🔑 Key Concepts\n",
    "\n",
    "- `RANDOM(a, b)`: Generates a random integer from `a` to `b` (inclusive).\n",
    "- Each result has equal probability.\n",
    "- Each execution may yield different results.\n",
    "- Random numbers help simulate real-world events.\n",
    "\n",
    "---\n",
    "\n",
    "### 🍿 Popcorn Hack 1: Real-World Applications\n",
    "\n",
    "**Question:**  \n",
    "Name two real-world applications where random number generation is essential and briefly explain why."
   ]
  },
  {
   "cell_type": "code",
   "execution_count": 1,
   "metadata": {
    "vscode": {
     "languageId": "ruby"
    }
   },
   "outputs": [
    {
     "name": "stdout",
     "output_type": "stream",
     "text": [
      "Random number between 1-10: 3\n",
      "Random number between 0-1: 1\n",
      "Random number between 1-6: 5\n"
     ]
    }
   ],
   "source": [
    "import random\n",
    "\n",
    "# Generate random integer between a and b inclusive\n",
    "def random_int(a, b):\n",
    "    return random.randint(a, b)\n",
    "\n",
    "# Examples\n",
    "print(f\"Random number between 1-10: {random_int(1, 10)}\")\n",
    "print(f\"Random number between 0-1: {random_int(0, 1)}\")  # Coin flip\n",
    "print(f\"Random number between 1-6: {random_int(1, 6)}\")  # Die roll"
   ]
  },
  {
   "cell_type": "markdown",
   "metadata": {},
   "source": [
    "## 🕹️ Common Applications\n",
    "\n",
    "- **Games**: Dice rolls, card shuffling, enemy behavior  \n",
    "- **Simulations**: Weather models, traffic patterns, economic scenarios  \n",
    "- **Security**: Encryption keys, password generation  \n",
    "- **Statistical sampling**: Selecting random subsets of data  "
   ]
  },
  {
   "cell_type": "code",
   "execution_count": 2,
   "metadata": {
    "vscode": {
     "languageId": "ruby"
    }
   },
   "outputs": [
    {
     "name": "stdout",
     "output_type": "stream",
     "text": [
      "Flip 1: Heads\n",
      "Flip 2: Heads\n",
      "Flip 3: Tails\n",
      "Flip 4: Tails\n",
      "Flip 5: Heads\n",
      "Flip 6: Tails\n",
      "Flip 7: Heads\n",
      "Flip 8: Tails\n",
      "Flip 9: Heads\n",
      "Flip 10: Heads\n"
     ]
    }
   ],
   "source": [
    "# Simulating a coin flip\n",
    "def coin_flip():\n",
    "    flip = random.randint(1, 2)\n",
    "    return \"Heads\" if flip == 1 else \"Tails\"\n",
    "\n",
    "# Test with 10 flips\n",
    "for i in range(10):\n",
    "    print(f\"Flip {i+1}: {coin_flip()}\")"
   ]
  },
  {
   "cell_type": "code",
   "execution_count": 3,
   "metadata": {
    "vscode": {
     "languageId": "ruby"
    }
   },
   "outputs": [
    {
     "name": "stdout",
     "output_type": "stream",
     "text": [
      "Results of 20 spins:\n",
      "Green: 11 times (55.0%)\n",
      "Orange: 1 times (5.0%)\n",
      "Purple: 1 times (5.0%)\n",
      "Blue: 5 times (25.0%)\n",
      "Red: 2 times (10.0%)\n"
     ]
    }
   ],
   "source": [
    "# Simulating weighted random choices\n",
    "def color_spinner():\n",
    "    spin = random.randint(1, 8)\n",
    "    if spin <= 3:\n",
    "        return \"Green\"\n",
    "    elif spin <= 5:\n",
    "        return \"Blue\"\n",
    "    elif spin == 6:\n",
    "        return \"Red\"\n",
    "    elif spin == 7:\n",
    "        return \"Orange\"\n",
    "    else:\n",
    "        return \"Purple\"\n",
    "\n",
    "# Test with 20 spins\n",
    "results = {}\n",
    "for i in range(20):\n",
    "    result = color_spinner()\n",
    "    results[result] = results.get(result, 0) + 1\n",
    "\n",
    "print(\"Results of 20 spins:\")\n",
    "for color, count in results.items():\n",
    "    print(f\"{color}: {count} times ({count/20*100:.1f}%)\")"
   ]
  },
  {
   "cell_type": "markdown",
   "metadata": {},
   "source": [
    "### 🍿 Popcorn Hack 2: Magic 8-Ball\n",
    "\n",
    "**Task:**  \n",
    "Complete the `magic_8_ball` function with the following logic:\n",
    "\n",
    "- “Yes” ≈ 50% chance  \n",
    "- “No” ≈ 25% chance  \n",
    "- “Ask again later” ≈ 25% chance"
   ]
  },
  {
   "cell_type": "code",
   "execution_count": 4,
   "metadata": {
    "vscode": {
     "languageId": "ruby"
    }
   },
   "outputs": [
    {
     "name": "stdout",
     "output_type": "stream",
     "text": [
      "Magic 8-Ball says: Yes\n",
      "Magic 8-Ball says: No\n",
      "Magic 8-Ball says: Yes\n",
      "Magic 8-Ball says: Ask again later\n",
      "Magic 8-Ball says: No\n",
      "Magic 8-Ball says: Yes\n",
      "Magic 8-Ball says: Yes\n",
      "Magic 8-Ball says: No\n",
      "Magic 8-Ball says: Ask again later\n",
      "Magic 8-Ball says: Yes\n"
     ]
    }
   ],
   "source": [
    "def magic_8_ball():\n",
    "    choice = random.randint(1, 4)\n",
    "    if choice in [1, 2]:\n",
    "        return \"Yes\"\n",
    "    elif choice == 3:\n",
    "        return \"No\"\n",
    "    else:\n",
    "        return \"Ask again later\"\n",
    "\n",
    "# Test your function\n",
    "for i in range(10):\n",
    "    print(f\"Magic 8-Ball says: {magic_8_ball()}\")"
   ]
  },
  {
   "cell_type": "markdown",
   "metadata": {},
   "source": [
    "## 🧪 Simulations and Games\n",
    "\n",
    "**What is a Simulation?**  \n",
    "A simulation models the behavior of real-world systems. It can be used for:\n",
    "\n",
    "- Player movement mechanics  \n",
    "- Physics engines (gravity, velocity, etc.)  \n",
    "- AI decision trees  \n",
    "- Environmental systems\n",
    "\n",
    "📝 **Note:** Simulations do **not** always require randomness."
   ]
  },
  {
   "cell_type": "code",
   "execution_count": 5,
   "metadata": {
    "vscode": {
     "languageId": "ruby"
    }
   },
   "outputs": [
    {
     "name": "stdout",
     "output_type": "stream",
     "text": [
      "Time 0: Green\n",
      "Time 1: Green\n",
      "Time 2: Green\n",
      "Time 3: Yellow\n",
      "Time 4: Red\n",
      "Time 5: Red\n",
      "Time 6: Green\n",
      "Time 7: Green\n",
      "Time 8: Green\n",
      "Time 9: Yellow\n"
     ]
    }
   ],
   "source": [
    "# Traffic light simulation (no randomness)\n",
    "states = [\"Green\", \"Yellow\", \"Red\"]\n",
    "durations = {\"Green\": 3, \"Yellow\": 1, \"Red\": 2}\n",
    "timeline = []\n",
    "\n",
    "time = 0\n",
    "state = \"Green\"\n",
    "counter = 0\n",
    "\n",
    "while time < 10:\n",
    "    timeline.append((time, state))\n",
    "    counter += 1\n",
    "    if counter == durations[state]:\n",
    "        counter = 0\n",
    "        current_index = states.index(state)\n",
    "        state = states[(current_index + 1) % len(states)]\n",
    "    time += 1\n",
    "\n",
    "for t, s in timeline:\n",
    "    print(f\"Time {t}: {s}\")"
   ]
  },
  {
   "cell_type": "markdown",
   "metadata": {},
   "source": [
    "### 🍿 Popcorn Hack 3\n",
    "\n",
    "**Task:**  \n",
    "Modify the traffic light simulation:\n",
    "\n",
    "- Green: 5 steps  \n",
    "- Yellow: 2 steps  \n",
    "- Red: 4 steps  \n",
    "- Run for 20 time steps\n",
    "\n",
    "Then answer:  \n",
    "**How is this a simulation? What is its real-world impact?**"
   ]
  },
  {
   "cell_type": "markdown",
   "metadata": {},
   "source": [
    "## 🏠 Homework Hack 1: Dice Game 🎲\n",
    "\n",
    "**Rules:**\n",
    "- Player rolls two dice\n",
    "- Win if total is 7 or 11\n",
    "- Lose if total is 2, 3, or 12\n",
    "- Otherwise, the total becomes the \"point\"\n",
    "- Keep rolling: win by matching the point, lose if 7\n",
    "\n",
    "**Template Code:**"
   ]
  },
  {
   "cell_type": "code",
   "execution_count": 6,
   "metadata": {
    "vscode": {
     "languageId": "ruby"
    }
   },
   "outputs": [
    {
     "name": "stdout",
     "output_type": "stream",
     "text": [
      "🎲 Welcome to the Dice Game!\n",
      "First roll: 4 + 5 = 9\n",
      "Point is set to: 9\n",
      "Rolled: 3 + 4 = 7\n",
      "You lose!\n",
      "First roll: 2 + 4 = 6\n",
      "Point is set to: 6\n",
      "Rolled: 1 + 2 = 3\n",
      "Rolled: 3 + 2 = 5\n",
      "Rolled: 2 + 5 = 7\n",
      "You lose!\n",
      "First roll: 4 + 4 = 8\n",
      "Point is set to: 8\n",
      "Rolled: 5 + 5 = 10\n",
      "Rolled: 6 + 2 = 8\n",
      "You win!\n",
      "First roll: 5 + 2 = 7\n",
      "You win!\n",
      "First roll: 5 + 4 = 9\n",
      "Point is set to: 9\n",
      "Rolled: 1 + 6 = 7\n",
      "You lose!\n",
      "First roll: 3 + 6 = 9\n",
      "Point is set to: 9\n",
      "Rolled: 5 + 5 = 10\n",
      "Rolled: 3 + 5 = 8\n",
      "Rolled: 2 + 1 = 3\n",
      "Rolled: 4 + 2 = 6\n",
      "Rolled: 4 + 6 = 10\n",
      "Rolled: 2 + 6 = 8\n",
      "Rolled: 3 + 4 = 7\n",
      "You lose!\n",
      "Final Stats - Wins: 2, Losses: 4\n"
     ]
    }
   ],
   "source": [
    "def roll_dice():\n",
    "    die1 = random.randint(1, 6)\n",
    "    die2 = random.randint(1, 6)\n",
    "    return die1, die2, die1 + die2\n",
    "\n",
    "def play_dice_game():\n",
    "    die1, die2, total = roll_dice()\n",
    "    print(f\"First roll: {die1} + {die2} = {total}\")\n",
    "    if total in [7, 11]:\n",
    "        return True\n",
    "    elif total in [2, 3, 12]:\n",
    "        return False\n",
    "    point = total\n",
    "    print(f\"Point is set to: {point}\")\n",
    "    while True:\n",
    "        die1, die2, total = roll_dice()\n",
    "        print(f\"Rolled: {die1} + {die2} = {total}\")\n",
    "        if total == point:\n",
    "            return True\n",
    "        elif total == 7:\n",
    "            return False\n",
    "\n",
    "def main():\n",
    "    wins, losses = 0, 0\n",
    "    while True:\n",
    "        play = input(\"Play a round? (y/n): \").strip().lower()\n",
    "        if play != \"y\":\n",
    "            break\n",
    "        if play_dice_game():\n",
    "            print(\"You win!\")\n",
    "            wins += 1\n",
    "        else:\n",
    "            print(\"You lose!\")\n",
    "            losses += 1\n",
    "    print(f\"Final Stats - Wins: {wins}, Losses: {losses}\")\n",
    "\n",
    "if __name__ == \"__main__\":\n",
    "    print(\"🎲 Welcome to the Dice Game!\")\n",
    "    main()"
   ]
  }
 ],
 "metadata": {
  "kernelspec": {
   "display_name": "venv",
   "language": "python",
   "name": "python3"
  },
  "language_info": {
   "codemirror_mode": {
    "name": "ipython",
    "version": 3
   },
   "file_extension": ".py",
   "mimetype": "text/x-python",
   "name": "python",
   "nbconvert_exporter": "python",
   "pygments_lexer": "ipython3",
   "version": "3.13.1"
  }
 },
 "nbformat": 4,
 "nbformat_minor": 2
}
