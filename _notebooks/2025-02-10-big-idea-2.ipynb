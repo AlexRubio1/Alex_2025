{
 "cells": [
  {
   "cell_type": "raw",
   "metadata": {},
   "source": [
    "---\n",
    "layout: post\n",
    "title: Big Idea 2\n",
    "description: How my final code has big Idea 2\n",
    "courses: { csp: {week:1} }\n",
    "comments: true\n",
    "sticky_rank: 1\n",
    "---"
   ]
  },
  {
   "cell_type": "markdown",
   "metadata": {},
   "source": [
    "# Understanding Data in Computer Science: Big Idea 2 and Task Management Systems\n",
    "\n",
    "In the realm of computer science, Big Idea 2 emphasizes the crucial role of **Data**. This idea focuses on how data is represented, stored, and processed, and it is an essential component of building robust applications. Whether we are dealing with vast datasets or simple information management systems, understanding how to handle data effectively is key. In this blog, we'll explore how Big Idea 2 applies to a practical backend system for managing tasks, using Flask, SQLAlchemy, and a Task model as an example.\n",
    "\n",
    "## What is Big Idea 2?\n",
    "\n",
    "Big Idea 2, titled **\"Data,\"** explores the idea that data is not just a byproduct of computer systems but a core component. It touches on the following concepts:\n",
    "\n",
    "- **Data Collection**: How we gather data from users, devices, and systems.\n",
    "- **Data Representation**: The way data is structured and formatted, whether through databases, JSON, or other structures.\n",
    "- **Data Storage**: Where and how data is stored, such as in databases or cloud services.\n",
    "- **Data Processing**: Analyzing data to derive meaning or insights.\n",
    "- **Data Privacy and Security**: Ensuring data is kept safe and used responsibly.\n",
    "\n",
    "For a system to function well, it needs to collect, store, and manage data efficiently. This is exactly what happens in task management systems, where users interact with tasks that need to be created, updated, retrieved, and deleted.\n",
    "\n",
    "## How Does Big Idea 2 Relate to Our Backend API?\n",
    "\n",
    "Let's consider the task management system built using Flask and SQLAlchemy. Here's a breakdown of how the key concepts of Big Idea 2 come into play:\n",
    "\n",
    "### Data Collection: Receiving Task Data\n",
    "\n",
    "In our API, users can send a **POST** request to add a new task. The data is collected via a JSON payload in the request body, which is then processed and stored in the database.\n",
    "\n",
    "```python\n",
    "@addtaskapi.route('/api/tasks', methods=['POST'])\n",
    "def add_task():\n",
    "    data = request.get_json()\n",
    "    newtask = data.get('task')\n",
    "    \n",
    "    if not newtask:\n",
    "        return jsonify({'error': 'Missing task data'}), 400\n",
    "    \n",
    "    new_task = Task(task=newtask)\n",
    "    try:\n",
    "        new_task.create()\n",
    "        return jsonify({'message': 'Task added successfully', 'task_id': new_task.id}), 201\n",
    "    except Exception as e:\n",
    "        return jsonify({'error': str(e)}), 500\n"
   ]
  }
 ],
 "metadata": {
  "language_info": {
   "name": "python"
  }
 },
 "nbformat": 4,
 "nbformat_minor": 2
}
