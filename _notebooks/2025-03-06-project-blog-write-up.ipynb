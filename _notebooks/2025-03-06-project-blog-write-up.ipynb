{
 "cells": [
  {
   "cell_type": "raw",
   "metadata": {},
   "source": [
    "---\n",
    "layout: post\n",
    "title: Full stack project blog`\n",
    "description: What I learned, saw\n",
    "courses: { csp: {week:1} }\n",
    "comments: true\n",
    "sticky_rank: 1\n",
    "---"
   ]
  },
  {
   "cell_type": "markdown",
   "metadata": {},
   "source": [
    "# StudyBuddy - A Full-Stack Task Manager\n",
    "\n",
    "## Introduction\n",
    "\n",
    "As part of my trimester project, I developed *StudyBuddy*, an app designed to help users manage their study tasks efficiently. The app allows users to organize tasks based on categories and dates, creating a personalized study plan. The project is built with Flask for the backend and SQLite for the database, and it features a dynamic frontend with a calendar interface. Throughout the development, I focused on creating a functional and user-friendly interface, while overcoming various challenges related to backend-frontend integration.\n",
    "\n",
    "## Project Overview\n",
    "\n",
    "### Key Features:\n",
    "- **Task Creation**: Users can create tasks with specific details such as a task title and category. Each task can be assigned to a specific day of the month.\n",
    "- **Task Calendar**: The app displays a calendar interface where users can view tasks assigned to specific days. This allows for better task organization and planning.\n",
    "- **Random Task Generator**: The app offers a random task generator that helps users with random study task suggestions from various categories. \n",
    "- **Task Management**: Users can view tasks for a specific day, and the app also includes functionality for editing and deleting tasks.\n",
    "\n",
    "<img width=\"700\" alt=\"Image\" src=\"https://github.com/user-attachments/assets/9c223318-69f3-4413-be51-b1ed5beb32d1\" />\n",
    "\n",
    "### Technology Stack:\n",
    "- **Backend**: Flask is used for the server-side logic, managing user requests and connecting to the database.\n",
    "- **Database**: SQLite is used to store task data, including task details and user-assigned dates.\n",
    "- **Frontend**: HTML, CSS, and JavaScript are used for the user interface, which includes a responsive calendar, task creation form, and dynamic interactions.\n",
    "\n",
    "## Challenges and Solutions\n",
    "\n",
    "One of the key challenges I faced during development was ensuring seamless communication between the backend and frontend. Initially, I struggled with connecting the task manager’s calendar feature with the backend’s API to ensure tasks would appear on the correct days. After watching tutorials on College Board CRUD operations, I implemented a solution where the frontend dynamically displays tasks fetched from the backend based on the day selected in the calendar.\n",
    "\n",
    "Another challenge was maintaining a user-friendly interface while integrating complex features. I focused on keeping the UI clean and intuitive, despite the complexity of managing tasks, categories, and dates. The random task generator was an interesting addition that helped users discover new tasks while keeping the interface simple.\n",
    "\n",
    "## Key Learnings and Insights\n",
    "\n",
    "Throughout the development of *StudyBuddy*, I learned valuable lessons about full-stack development. One of the key takeaways was the importance of managing state between the frontend and backend. Initially, I had issues with task updates not reflecting in real-time on the frontend, but I solved this by making API calls that fetch data whenever a user interacts with the calendar or task list.\n",
    "\n",
    "Additionally, integrating the random task feature added an element of unpredictability to the app, which enhanced its functionality. By incorporating task categories, users can now focus on specific areas of study, whether it's creative development, algorithms, or data analysis.\n",
    "\n",
    "## Reflection\n",
    "\n",
    "Looking back, I am proud of how *StudyBuddy* has turned out. The integration of the random task generator adds a unique dimension to the task manager, and the calendar system helps users stay organized by visualizing their tasks over time. I also gained more confidence in managing the backend logic with Flask and handling API requests. The project required me to balance the complexity of backend operations with the need for a responsive, user-friendly frontend.\n",
    "\n",
    "As I look forward, I aim to enhance *StudyBuddy* by adding features such as user authentication, notifications for upcoming tasks, and a way to track task completion. These additions will further improve the app’s usability and make it more dynamic.\n",
    "\n",
    "## Conclusion\n",
    "\n",
    "Overall, *StudyBuddy* serves as a comprehensive tool for task management and study planning. It demonstrates the potential of full-stack development in creating functional, efficient, and user-centered applications. Through overcoming challenges and learning new technologies, I’ve enhanced my skills in both backend and frontend development, which will be invaluable for future projects.\n"
   ]
  }
 ],
 "metadata": {
  "language_info": {
   "name": "python"
  }
 },
 "nbformat": 4,
 "nbformat_minor": 2
}
