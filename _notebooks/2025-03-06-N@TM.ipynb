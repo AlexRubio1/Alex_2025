{
 "cells": [
  {
   "cell_type": "raw",
   "metadata": {},
   "source": [
    "---\n",
    "layout: post\n",
    "title: N@TM notes\n",
    "description: What I learned, saw\n",
    "courses: { csp: {week:1} }\n",
    "comments: true\n",
    "sticky_rank: 1\n",
    "---"
   ]
  },
  {
   "cell_type": "markdown",
   "metadata": {},
   "source": [
    "# Prism  \n",
    "Prism is an AI-powered social media platform designed with a clean and appealing user interface. It allows users to engage in chatrooms with multiple groups and channels, making it easy to connect and share within different communities. The platform includes posts that encourage interaction through daily subject-specific questions, giving users a chance to respond and engage in meaningful discussions. Additionally, it features polls to further increase user participation and gather opinions on various topics.\n",
    "\n",
    "![Image](https://github.com/user-attachments/assets/83d5cf86-1ff6-4af2-8e23-0f063738461a)\n",
    "\n",
    "# Scribble  \n",
    "Scribble provides a fun and engaging user experience where participants are given a random word to draw within a specified time limit. Afterward, their drawing is scored based on its accuracy and creativity. While the user interface is decent and the concept is enjoyable, the scoring system leaves much to be desired. It tends to be inaccurate and often awards full points even when the drawing doesn’t quite match the word, leading to a less rewarding experience for users.\n",
    "\n",
    "# Legendary Motorsports  \n",
    "Legendary Motorsports stands out with its clean and minimalist design, making the platform visually appealing and easy to navigate. It enables users to buy and sell cars within a streamlined interface. The platform allows individuals to leave comments on listings, save favorite vehicles, and engage in private car chats, which are designed to provide personalized support rather than messaging everyone on the site. This feature improves communication and ensures a more focused and tailored experience for buyers and sellers.\n",
    "\n",
    "# TeamTeachToolkit  \n",
    "TeamTeachToolkit is a comprehensive tool designed to assist student teachers in managing their classrooms effectively. It helps generate relevant questions based on a given topic, providing teachers with helpful resources to engage students. The platform also allows users to save and review these questions later, making it easy to track progress. Additionally, it offers feedback on code and grades, helping teachers assess students' work and provide constructive feedback. While the user interface is functional, it could benefit from being more dynamic, with a wider range of colors and a more user-friendly design to enhance the overall user experience.\n",
    "\n",
    "![Image](https://github.com/user-attachments/assets/1f3add34-1fee-48d1-b032-c25a57e035d3)\n",
    "\n",
    "\n",
    "##  From all these learnings I was able capture some pictures and even some interviews with some CSSE students and Prism which was my personal favorite showing AI Use\n",
    "\n",
    "![Image](https://github.com/user-attachments/assets/c4ec62d1-4361-4117-b6d1-33922d4d12c6)\n",
    "\n"
   ]
  },
  {
   "cell_type": "markdown",
   "metadata": {},
   "source": [
    "## Overall  \n",
    "\n",
    "- N@TM was an incredible experience—it felt so lively, and I had a great time presenting my feature. I especially enjoyed how engaged people were, asking thoughtful questions about my code. It made me feel like I was contributing something meaningful. Most of the visitors were Weston’s parents, but I also had the chance to explore other projects, learn from my peers, and even make new friends. The energy was amazing!  \n",
    "\n",
    "- One key piece of feedback I received about my calendar was the need to allow users to add tasks to specific days. Looking back, I realized I hadn’t considered it from a user’s perspective, but it’s a great suggestion that I’ll work on improving.  \n",
    "\n",
    "\n",
    "Feedback = I really liked the calendar, and the other useful features you guys had on your page. It was executed beautifully and also think the UI and user experience flows well as well. \tI think your calendar could have looked more fluid for a better user experience"
   ]
  }
 ],
 "metadata": {
  "language_info": {
   "name": "python"
  }
 },
 "nbformat": 4,
 "nbformat_minor": 2
}
