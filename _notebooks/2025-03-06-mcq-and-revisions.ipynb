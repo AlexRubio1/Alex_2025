{
 "cells": [
  {
   "cell_type": "raw",
   "metadata": {},
   "source": [
    "---\n",
    "layout: post\n",
    "title: 2020 MCQ Revisions \n",
    "description: Revisions\n",
    "courses: { csp: {week:1} }\n",
    "comments: true\n",
    "sticky_rank: 1\n",
    "---"
   ]
  },
  {
   "cell_type": "markdown",
   "metadata": {},
   "source": [
    "<img width=\"1302\" alt=\"Image\" src=\"https://github.com/user-attachments/assets/36247537-f8b1-462c-bbc8-b03db79f760d\" />"
   ]
  },
  {
   "cell_type": "markdown",
   "metadata": {},
   "source": [
    "<img width=\"800\" alt=\"Image\" src=\"https://github.com/user-attachments/assets/e29b2288-ebc3-4630-a63b-25fcbd173443\" />"
   ]
  },
  {
   "cell_type": "markdown",
   "metadata": {},
   "source": [
    "<img width=\"800\" alt=\"Image\" src=\"https://github.com/user-attachments/assets/33077190-f260-4166-91cd-546825656f2b\" />"
   ]
  },
  {
   "cell_type": "markdown",
   "metadata": {},
   "source": [
    "\n",
    "- The answer I chose was (A) saying, it allows programmers to implement algorithmic solutions to otherwise unsolvable problems. This would be incorrect, unsolvable problems cannot be solved with an algorithm. because I thought that the new \n",
    "- Reading the question further I shouldve chosen answer (D) , it incrementally adding code segments to correct, working programs can help programmers identify new errors that are introduced instead of fixing unsolvable problems.\n",
    "\n",
    "---\n"
   ]
  },
  {
   "cell_type": "markdown",
   "metadata": {},
   "source": [
    "### Question 13\n",
    "\n",
    "<img width=\"500\" alt=\"Screenshot 2024-11-20 at 12 31 14 PM\" src=\"https://github.com/user-attachments/assets/8c766e30-58ba-432a-9768-80728176cbed\">\n",
    "\n",
    "- The answer I chose was (A), I was thinking while looking at the daily messages sent and the app relase date and seeing there was little to no affect\n",
    "- Answer (D) Wouldve been the better answer, the average number of characters per message appears to decrease after the mobile app was released.\n",
    "\n",
    "---"
   ]
  }
 ],
 "metadata": {
  "language_info": {
   "name": "python"
  }
 },
 "nbformat": 4,
 "nbformat_minor": 2
}
