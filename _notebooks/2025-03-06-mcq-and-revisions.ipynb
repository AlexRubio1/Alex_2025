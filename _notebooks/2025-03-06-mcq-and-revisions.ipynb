{
 "cells": [
  {
   "cell_type": "raw",
   "metadata": {},
   "source": [
    "---\n",
    "layout: post\n",
    "title: 2020 MCQ Revisions \n",
    "description: Revisions\n",
    "courses: { csp: {week:1} }\n",
    "comments: true\n",
    "sticky_rank: 1\n",
    "---"
   ]
  },
  {
   "cell_type": "markdown",
   "metadata": {},
   "source": [
    "<img width=\"1302\" alt=\"Image\" src=\"https://github.com/user-attachments/assets/36247537-f8b1-462c-bbc8-b03db79f760d\" />"
   ]
  }
 ],
 "metadata": {
  "language_info": {
   "name": "python"
  }
 },
 "nbformat": 4,
 "nbformat_minor": 2
}
