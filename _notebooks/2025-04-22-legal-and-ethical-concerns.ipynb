{
 "cells": [
  {
   "cell_type": "raw",
   "metadata": {},
   "source": [
    "---\n",
    "layout: post\n",
    "title: Legal and Ethical Concerns\n",
    "description: legal-and-ethical-concerns\n",
    "courses: { csp: {week:1} }\n",
    "comments: true\n",
    "sticky_rank: 1\n",
    "---"
   ]
  },
  {
   "cell_type": "markdown",
   "metadata": {},
   "source": [
    "#  CS Principles Lessons - Jupyter Notebook Directory\n",
    "\n",
    "##  Big Idea 5: Impact of Computing\n",
    "\n",
    "- [Beneficial / Harmful Effects](notebooks/bigidea5/beneficial_harmful_effects.ipynb)\n",
    "- [Digital Divide](notebooks/bigidea5/digital_divide.ipynb)\n",
    "- [Computing Bias](notebooks/bigidea5/computing_bias.ipynb)\n",
    "- [Crowdsourcing](https://alexrubio1.github.io/Alex_2025/2025/03/27/crowd_sourcing_IPYNB_2_.html)\n",
    "- [Legal / Ethical Concerns](notebooks/bigidea5/legal_ethical_concerns.ipynb)\n",
    "- [Safe Computing](https://alexrubio1.github.io/Alex_2025/2025/04/01/safe-computing_IPYNB_2_.html)\n",
    "\n",
    "---\n",
    "\n",
    "##  Big Idea 3: Algorithms and Programming\n",
    "\n",
    "- [Binary Search Algorithm](notebooks/bigidea3/binary_search.ipynb)\n",
    "- [Lists and Filtering Algorithm](notebooks/bigidea3/lists_filtering.ipynb)\n",
    "- [Simulation / Games and Random Algorithms](notebooks/bigidea3/simulations_random.ipynb)\n",
    "- [Big O and Algorithm Efficiency](https://alexrubio1.github.io/Alex_2025/2025/04/21/big-o-lesson_IPYNB_2_.html)\n",
    "- [Undecidable Problems, Graphs + Heuristics](notebooks/bigidea3/undecidable_graphs_heuristics.ipynb)\n",
    "- [Binary Base 2 Math + Logic Gates](notebooks/bigidea3/binary_logic_gates.ipynb)\n",
    "- [Color Codes / Images / Base64](notebooks/bigidea3/color_images_base64.ipynb)"
   ]
  }
 ],
 "metadata": {
  "kernelspec": {
   "display_name": "venv",
   "language": "python",
   "name": "python3"
  },
  "language_info": {
   "codemirror_mode": {
    "name": "ipython",
    "version": 3
   },
   "file_extension": ".py",
   "mimetype": "text/x-python",
   "name": "python",
   "nbconvert_exporter": "python",
   "pygments_lexer": "ipython3",
   "version": "3.13.1"
  }
 },
 "nbformat": 4,
 "nbformat_minor": 2
}
