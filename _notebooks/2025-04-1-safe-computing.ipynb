{
 "cells": [
  {
   "cell_type": "raw",
   "metadata": {},
   "source": [
    "---\n",
    "layout: post\n",
    "title: safe computing concerns\n",
    "description: safe computing Notes and Homework\n",
    "courses: { csp: {week:1} }\n",
    "comments: true\n",
    "sticky_rank: 1\n",
    "---"
   ]
  },
  {
   "cell_type": "markdown",
   "metadata": {},
   "source": [
    "## Notes\n",
    "\n",
    "Types of Encryption\n",
    "Symmetric Encryption (Private Key Encryption)\n",
    "The same key is used for both encryption and decryption\n",
    "Faster but requires securely sharing the key between parties\n",
    "Example: AES (Advance Encryption Standard) used for securing files\n",
    "Asymmetric Encryption (Public Key Encryption)\n",
    "Uses a pair of keys:\n",
    "Public Key (for encryption)\n",
    "Private key (for decryption)\n",
    "More secure for internet communications since users don’t need to share a single key.\n",
    "Hashing (One-way encryption)\n",
    "Converts data into a fixed length string that cannot be reversed\n",
    "Used for storing passwordss securely.\n",
    "Example: SHA-256 (Secure Hash Algorithm) used in blockchain and password security.\n"
   ]
  },
  {
   "cell_type": "markdown",
   "metadata": {},
   "source": [
    "- To prevent this, we must\n",
    "    - never click on links in texts from unknown numbers\n",
    "    - never contact our bank or service provider directly if we recieve a suspicious text\n",
    "    - and enable spam filters on our phones to block spam messages"
   ]
  },
  {
   "cell_type": "code",
   "execution_count": 2,
   "metadata": {},
   "outputs": [
    {
     "name": "stdout",
     "output_type": "stream",
     "text": [
      "Result: xn\n"
     ]
    }
   ],
   "source": [
    "import random\n",
    "\n",
    "def caesar_cipher(text, shift, mode):\n",
    "    result = \"\"\n",
    "    shift = shift % 26  # Ensure shifts wrap around correctly\n",
    "\n",
    "    if mode not in [\"encrypt\", \"decrypt\"]:\n",
    "        return \"Invalid mode! Please enter 'encrypt' or 'decrypt'.\"\n",
    "\n",
    "    for char in text:\n",
    "        if char.isalpha():\n",
    "            shift_amount = shift if mode == \"encrypt\" else -shift\n",
    "            new_char = chr(((ord(char.lower()) - 97 + shift_amount) % 26) + 97)\n",
    "            result += new_char.upper() if char.isupper() else new_char\n",
    "        else:\n",
    "            result += char\n",
    "    return result\n",
    "\n",
    "# User input with basic validation\n",
    "mode = input(\"Do you want to encrypt or decrypt? \").strip().lower()\n",
    "if mode not in [\"encrypt\", \"decrypt\"]:\n",
    "    print(\"Invalid mode! Please enter 'encrypt' or 'decrypt'.\")\n",
    "else:\n",
    "    message = input(\"Enter your message: \")\n",
    "    shift_input = input(\"Enter shift value (number of places to shift or 'random'): \").strip().lower()\n",
    "    \n",
    "    if shift_input == \"random\":\n",
    "        shift = random.randint(1, 25)  # Pick a random shift value between 1 and 25\n",
    "        print(f\"Random shift selected: {shift}\")\n",
    "    else:\n",
    "        try:\n",
    "            shift = int(shift_input)\n",
    "        except ValueError:\n",
    "            print(\"Invalid shift value! Please enter a number or 'random'.\")\n",
    "            shift = None\n",
    "    \n",
    "    if shift is not None:\n",
    "        output = caesar_cipher(message, shift, mode)\n",
    "        print(f\"Result: {output}\")"
   ]
  },
  {
   "cell_type": "markdown",
   "metadata": {},
   "source": [
    "- ✅ Allows \"random\" as a shift input – The user can type \"random\", and the program will select a random integer between 1 and 25.\n",
    "- ✅ Prints the selected random shift – So the user knows what shift was applied.\n",
    "- ✅ Preserves original functionality – Users can still input a manual shift value if they prefer.\n",
    "- ✅ Handles invalid inputs – Ensures only valid numbers or \"random\" are accepted."
   ]
  }
 ],
 "metadata": {
  "kernelspec": {
   "display_name": "venv",
   "language": "python",
   "name": "python3"
  },
  "language_info": {
   "codemirror_mode": {
    "name": "ipython",
    "version": 3
   },
   "file_extension": ".py",
   "mimetype": "text/x-python",
   "name": "python",
   "nbconvert_exporter": "python",
   "pygments_lexer": "ipython3",
   "version": "3.13.1"
  }
 },
 "nbformat": 4,
 "nbformat_minor": 2
}
