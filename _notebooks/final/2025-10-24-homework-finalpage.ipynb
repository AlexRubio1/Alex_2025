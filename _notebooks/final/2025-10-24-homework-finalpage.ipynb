{
 "cells": [
  {
   "cell_type": "raw",
   "metadata": {},
   "source": [
    "---\n",
    "layout: post\n",
    "title: Homework main page\n",
    "description: notecards \n",
    "courses: { csp: {week:5} }\n",
    "comments: true\n",
    "sticky_rank: 1\n",
    "---"
   ]
  },
  {
   "cell_type": "markdown",
   "metadata": {},
   "source": [
    "#  CS Principles Lessons - Jupyter Notebook Directory\n",
    "\n",
    "-  Big Idea 5: Impact of Computing\n",
    "\n",
    "- [Beneficial / Harmful Effects](https://alexrubio1.github.io/Alex_2025/2025/03/27/effects_IPYNB_2_.html)\n",
    "- [Digital Divide](https://alexrubio1.github.io/Alex_2025/2025/03/25/digital_divide_IPYNB_2_.html)\n",
    "- [Computing Bias](https://alexrubio1.github.io/Alex_2025/2025/03/27/computer_bias_IPYNB_2_.html)\n",
    "- [Crowdsourcing](https://alexrubio1.github.io/Alex_2025/2025/03/27/crowd_sourcing_IPYNB_2_.html)\n",
    "- [Legal / Ethical Concerns](https://alexrubio1.github.io/Alex_2025/2025/04/22/legal-and-ethical-concerns_IPYNB_2_.html)\n",
    "- [Safe Computing](https://alexrubio1.github.io/Alex_2025/2025/04/01/safe-computing_IPYNB_2_.html)\n",
    "\n",
    "---\n",
    "\n",
    "-  Big Idea 3: Algorithms and Programming\n",
    "\n",
    "- [Binary Search Algorithm](notebooks/bigidea3/binary_search.ipynb)\n",
    "- [Lists and Filtering Algorithm](notebooks/bigidea3/lists_filtering.ipynb)\n",
    "- [Simulation / Games and Random Algorithms](https://alexrubio1.github.io/Alex_2025/2025/04/11/simulation-games_IPYNB_2_.html)\n",
    "- [Big O and Algorithm Efficiency](https://alexrubio1.github.io/Alex_2025/2025/04/21/big-o-lesson_IPYNB_2_.html)\n",
    "- [Undecidable Problems, Graphs + Heuristics](https://alexrubio1.github.io/und_lesson/lesson/3-2)\n",
    "- [Binary Base 2 Math + Logic Gates](notebooks/bigidea3/binary_logic_gates.ipynb)\n",
    "- [Color Codes / Images / Base64](notebooks/bigidea3/color_images_base64.ipynb)\n",
    "\n",
    "---\n",
    "\n",
    "- Spread sheet for all lessons\n",
    "\n",
    "[Spread Sheet](https://docs.google.com/spreadsheets/d/17FRhrbjNAmsNVuT4iZJ0bxGnvW1-MuDTF8SqowtdVuo/edit?gid=0#gid=0)\n",
    "\n",
    "---\n",
    "\n",
    "- Notecards for studying\n",
    "\n",
    "- [Notecards from last lesson](https://alexrubio1.github.io/Alex_2025/2024/10/16/summary_IPYNB_2_.html)\n",
    "- [Notecards from newest MCQ](https://alexrubio1.github.io/Alex_2025/2025/10/24/notecards_IPYNB_2_.html)\n",
    "\n",
    "\n"
   ]
  }
 ],
 "metadata": {
  "language_info": {
   "name": "python"
  }
 },
 "nbformat": 4,
 "nbformat_minor": 2
}
