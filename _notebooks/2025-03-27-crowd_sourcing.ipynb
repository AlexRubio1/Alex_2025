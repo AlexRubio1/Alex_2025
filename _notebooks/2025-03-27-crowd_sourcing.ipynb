{
 "cells": [
  {
   "cell_type": "raw",
   "metadata": {},
   "source": [
    "---\n",
    "layout: post\n",
    "title: Crowdsourcing\n",
    "description: Crowdsourcing popcorn hacks and Homework\n",
    "courses: { csp: {week:1} }\n",
    "comments: true\n",
    "sticky_rank: 1\n",
    "---"
   ]
  },
  {
   "cell_type": "markdown",
   "metadata": {},
   "source": [
    "Popcorn Hack 3\n",
    "How does distributed computing contribute to innovations through crowdsourcing? Provide 3+ examples of successful projects that have utilized distributed computing and crowdsourcing to obtain data.\n",
    "Three examples of successful projects are Github, amazon and their reviews, and then music apps like spotify or other apps like messaging , discord, or reddit.\n",
    "\n",
    "\n",
    "\n",
    "\n",
    "Popcorn Hack 2\n",
    "What is data crowdsourcing, and how does it contribute to open-source development? Provide 3+ examples of public datasets that have been created through crowdsourcing efforts.\n",
    "Crowdsourcing is many different things, it could be datasets and different types of crowd. One dataset is the Google Open Images dataset, the NASA Earth Observations and the Apple 3d Maps.\n",
    "\n",
    "\n",
    "Popcorn Hack 1\n",
    "What are the different types of crowdsourcing, and how do they contribute to innovation? Provide a brief description of each type.\n",
    "Crowdsourcing involves gathering input or resources from a large group of people. Here are its types and contributions to innovation:\n",
    "\n",
    "1. **Crowd Voting**: People vote on ideas, helping identify popular and impactful concepts.\n",
    "2. **Crowdsolving**: The crowd solves specific problems, leading to creative solutions.\n",
    "3. **Crowdfunding**: People contribute money to fund innovative projects.\n",
    "4. **Microwork**: Tasks are divided and completed by many, speeding up work.\n",
    "5. **Crowd Creation**: The crowd generates creative content or ideas, fostering innovation.\n",
    "6. **Open Source**: Developers collaborate on software, rapidly improving it.\n",
    "7. **Crowd Mapping**: People share geographic data, aiding real-time decision-making.\n",
    "\n",
    "\n",
    "\n",
    "\n",
    "Four types are crowd funding crowd creation crowd voting and crowd wisdom, they contribute to innovation by providing new outlooks. Crowdfunding is used to raise money by a large amount of groups, and crowd creation is used to gather creative input from a crowd, often for content generation or design. Crowd voting is used for collecting public opinion/feedback and crowd wisdom is use to collect intelligence for decision-making or problem-solving."
   ]
  }
 ],
 "metadata": {
  "language_info": {
   "name": "python"
  }
 },
 "nbformat": 4,
 "nbformat_minor": 2
}
