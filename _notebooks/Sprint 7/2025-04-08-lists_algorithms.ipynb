{
 "cells": [
  {
   "cell_type": "raw",
   "metadata": {},
   "source": []
  },
  {
   "cell_type": "raw",
   "metadata": {},
   "source": [
    "---\n",
    "layout: post\n",
    "title: Lists and Algortithms \n",
    "description: Lists and Algortithms Notes and Homework\n",
    "courses: { csp: {week:1} }\n",
    "comments: true\n",
    "sticky_rank: 1\n",
    "---"
   ]
  }
 ],
 "metadata": {
  "language_info": {
   "name": "python"
  }
 },
 "nbformat": 4,
 "nbformat_minor": 2
}
