{
 "cells": [
  {
   "cell_type": "raw",
   "metadata": {},
   "source": [
    "---\n",
    "layout: post\n",
    "title: Math and logic gates\n",
    "description: Math and logic gates notes \n",
    "courses: { csp: {week:1} }\n",
    "comments: true\n",
    "sticky_rank: 1\n",
    "---"
   ]
  },
  {
   "cell_type": "markdown",
   "metadata": {},
   "source": [
    "## Notes"
   ]
  },
  {
   "cell_type": "markdown",
   "metadata": {},
   "source": [
    "### Popcorn hacks and homework hacks\n",
    "\n",
    "## Popcorn hack one\n",
    "\n",
    "- #1 is binary and is 42\n",
    "\n",
    "- #2 is not binary because of the numbers\n",
    "\n",
    "- #3 is binary\n",
    "\n",
    "## Popcorn hack three\n",
    "\n",
    "- #1 101+110 is 1011\n",
    "\n",
    "- #2 1101 - 1011 is 010\n",
    "\n",
    "- #3 111 + 1001 is 110\n",
    "\n",
    "## Popcorn hack 3\n",
    "\n",
    "- Popcorn Hack 1:\n",
    "Problem:\n",
    "True or False and False\n",
    "\n",
    "\n",
    " True\n",
    "\n",
    "- Popcorn Hack 2:\n",
    "Problem:\n",
    "\n",
    "\n",
    "not True and False\n",
    "\n",
    "\n",
    " False\n",
    "\n",
    "\n",
    "- Popcorn Hack 3:\n",
    "Problem:\n",
    "\n",
    "True or False and not False\n",
    "\n",
    "\n",
    " True\n",
    "\n",
    "## homework hack 1"
   ]
  },
  {
   "cell_type": "code",
   "execution_count": null,
   "metadata": {},
   "outputs": [],
   "source": [
    "def decimal_to_binary(decimal_num):\n",
    "    \"\"\"Converts a decimal number to a binary string.\"\"\"\n",
    "    if decimal_num >= 0:\n",
    "        return bin(decimal_num)[2:]\n",
    "    else:\n",
    "        return '-' + bin(abs(decimal_num))[2:]\n",
    "\n",
    "def binary_to_decimal(binary_str):\n",
    "    \"\"\"Converts a binary string to a decimal number.\"\"\"\n",
    "    if binary_str.startswith('-'):\n",
    "        return -int(binary_str[1:], 2)\n",
    "    else:\n",
    "        return int(binary_str, 2)\n",
    "\n",
    "# --- Testing the functions ---\n",
    "\n",
    "# Decimal to Binary\n",
    "print(\"Decimal to Binary Tests:\")\n",
    "print(decimal_to_binary(10))   # Output: 1010\n",
    "print(decimal_to_binary(0))    # Output: 0\n",
    "print(decimal_to_binary(-7))   # Output: -111\n",
    "\n",
    "# Binary to Decimal\n",
    "print(\"\\nBinary to Decimal Tests:\")\n",
    "print(binary_to_decimal(\"1010\"))   # Output: 10\n",
    "print(binary_to_decimal(\"0\"))      # Output: 0\n",
    "print(binary_to_decimal(\"-111\"))   # Output: -7"
   ]
  },
  {
   "cell_type": "markdown",
   "metadata": {},
   "source": [
    "## Homework Hack 2"
   ]
  },
  {
   "cell_type": "code",
   "execution_count": 4,
   "metadata": {},
   "outputs": [
    {
     "name": "stdout",
     "output_type": "stream",
     "text": [
      "Difficulty set to: easy\n"
     ]
    }
   ],
   "source": [
    "import time\n",
    "\n",
    "difficulty = input(\"Enter difficulty (easy, medium, hard): \").lower().strip()\n",
    "\n",
    "while difficulty not in [\"easy\", \"medium\", \"hard\"]:\n",
    "    print(\"Please enter a valid difficulty level.\")\n",
    "    difficulty = input(\"Enter difficulty (easy, medium, hard): \").lower().strip()\n",
    "    time.sleep(0.5)\n",
    "\n",
    "print(\"Difficulty set to:\", difficulty)"
   ]
  }
 ],
 "metadata": {
  "kernelspec": {
   "display_name": "venv",
   "language": "python",
   "name": "python3"
  },
  "language_info": {
   "codemirror_mode": {
    "name": "ipython",
    "version": 3
   },
   "file_extension": ".py",
   "mimetype": "text/x-python",
   "name": "python",
   "nbconvert_exporter": "python",
   "pygments_lexer": "ipython3",
   "version": "3.13.1"
  }
 },
 "nbformat": 4,
 "nbformat_minor": 2
}
