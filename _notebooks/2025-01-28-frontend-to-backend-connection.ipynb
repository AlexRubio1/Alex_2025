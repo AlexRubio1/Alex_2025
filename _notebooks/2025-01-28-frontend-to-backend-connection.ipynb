{
 "cells": [
  {
   "cell_type": "raw",
   "metadata": {},
   "source": [
    "---\n",
    "layout: post\n",
    "title: Frontend to Backend Connection Blog\n",
    "description: My frontend to Backend connection through\n",
    "courses: { csp: {week:1} }\n",
    "comments: true\n",
    "sticky_rank: 1\n",
    "---"
   ]
  },
  {
   "cell_type": "markdown",
   "metadata": {},
   "source": [
    "# Task Manager Program Blog\n",
    "\n",
    "## 1. **Introduction**\n",
    "\n",
    "### 1.1 **Overview of the Task Manager Program**\n",
    "In this project, I developed a task manager program designed to help users track their tasks efficiently. The application enables users to add, update, delete, and view tasks, with features powered by both frontend and backend technologies.\n",
    "\n",
    "### 1.2 **Purpose of the Program**\n",
    "The goal of the program is to provide an easy-to-use platform where users can manage their daily tasks. It integrates a full-stack architecture that uses a database to store task data and APIs to interact with the data dynamically. And if you have no idea what tasks to create you always have the option to use the \"random-tasks\" api which is mainly focused on the big idea 1 following crud operations and Algorthims and programming and also data anyalsis.\n",
    "\n",
    "---\n",
    "\n",
    "## 2. **Purpose of Your Individual Feature(s)**\n",
    "\n",
    "### 2.1 **Feature Overview**\n",
    "My individual feature within the program is the creation of the Task Manager API, which includes four main operations:\n",
    "- **Create**: Allows users to add tasks.\n",
    "- **Read**: Displays all tasks or individual task details.\n",
    "- **Update**: Modifies an existing task.\n",
    "- **Delete**: Removes a task from the database.\n",
    "\n",
    "Each of these operations corresponds to an API endpoint and interacts directly with a database to persist and retrieve task data.\n",
    "\n",
    "---\n",
    "\n",
    "## 3. **Input/Output Requests**\n",
    "\n",
    "### 3.1 **Frontend API Request and Response**\n",
    "\n",
    "#### 3.1.1 **API Request (Frontend)**\n",
    "\n",
    "To interact with the backend, the frontend makes an HTTP request using JavaScript. For example, when a user submits a form to add a new task, a POST request is made to the `/api/tasks` endpoint.\n",
    "\n",
    "```javascript\n",
    "fetch('/api/tasks', {\n",
    "  method: 'POST',\n",
    "  headers: {\n",
    "    'Content-Type': 'application/json'\n",
    "  },\n",
    "  body: JSON.stringify({\n",
    "    task: \"Review the key concepts from your last CSP lesson.\"\n",
    "  })\n",
    "})\n",
    ".then(response => response.json())\n",
    ".then(data => {\n",
    "  console.log('Task added:', data);\n",
    "})\n",
    ".catch(error => console.error('Error:', error));\n",
    "```\n",
    "## Big Idea One CRUD operations\n",
    "\n",
    "| HTTP Method | Endpoint                          | Description                        | Image in Postman |\n",
    "|------------|----------------------------------|------------------------------------|------------------|\n",
    "| **GET**     | `http://127.0.0.1:8887/api/tasks/5`  | Proof of the **GET** method working. | ![GET Image](https://github.com/user-attachments/assets/edf7ada4-e731-42eb-8ed0-4ab6834806f9) |\n",
    "| **POST**    | `http://127.0.0.1:8887/api/tasks`   | Proof of the **POST** method working. | ![POST Image](https://github.com/user-attachments/assets/d15c5b3d-0823-4a40-b6b2-f3f6352c91c1) |\n",
    "| **PUT**     | `http://127.0.0.1:8887/api/tasks/5`  | Proof of the **PUT** method working. | ![PUT Image 1](https://github.com/user-attachments/assets/ad115dec-6bb2-4f8f-92e2-5046acceefdc) <br> ![PUT Image 2](https://github.com/user-attachments/assets/f11ecfd4-28c2-4c7e-a37e-7f4d86523db2) |\n",
    "| **DELETE**  | `http://127.0.0.1:8887/api/tasks/5`  | Proof of the **DELETE** method working. | ![DELETE Image](https://github.com/user-attachments/assets/c8b8da8a-9642-48c6-8011-f97c80468ef8) |\n"
   ]
  }
 ],
 "metadata": {
  "language_info": {
   "name": "python"
  }
 },
 "nbformat": 4,
 "nbformat_minor": 2
}
